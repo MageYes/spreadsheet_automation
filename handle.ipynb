{
 "cells": [
  {
   "cell_type": "code",
   "execution_count": 1,
   "id": "025a0768",
   "metadata": {
    "ExecuteTime": {
     "end_time": "2023-05-18T06:03:25.190840Z",
     "start_time": "2023-05-18T06:03:24.015585Z"
    }
   },
   "outputs": [
    {
     "ename": "UnboundLocalError",
     "evalue": "local variable 'trading_days' referenced before assignment",
     "output_type": "error",
     "traceback": [
      "\u001b[1;31m---------------------------------------------------------------------------\u001b[0m",
      "\u001b[1;31mUnboundLocalError\u001b[0m                         Traceback (most recent call last)",
      "Cell \u001b[1;32mIn[1], line 5\u001b[0m\n\u001b[0;32m      2\u001b[0m \u001b[38;5;28;01mfrom\u001b[39;00m \u001b[38;5;21;01mspreadsheet_automation\u001b[39;00m \u001b[38;5;28;01mimport\u001b[39;00m automation\n\u001b[0;32m      3\u001b[0m \u001b[38;5;28;01mfrom\u001b[39;00m \u001b[38;5;21;01mconfig\u001b[39;00m \u001b[38;5;28;01mimport\u001b[39;00m etfs_lst, etfs_hedge_date_dict, start_date, end_date, excel_path\n\u001b[1;32m----> 5\u001b[0m Fixing_hedge_df, FX_hedge_df \u001b[38;5;241m=\u001b[39m \u001b[43mautomation\u001b[49m\u001b[43m(\u001b[49m\u001b[43metfs_lst\u001b[49m\u001b[43m,\u001b[49m\u001b[43m \u001b[49m\u001b[43metfs_hedge_date_dict\u001b[49m\u001b[43m,\u001b[49m\u001b[43m \u001b[49m\u001b[43mexcel_path\u001b[49m\u001b[43m,\u001b[49m\u001b[43m \u001b[49m\u001b[43mstart_date\u001b[49m\u001b[43m,\u001b[49m\u001b[43m \u001b[49m\u001b[43mend_date\u001b[49m\u001b[43m)\u001b[49m\n",
      "File \u001b[1;32mD:\\spreadsheet automation\\spreadsheet_automation.py:86\u001b[0m, in \u001b[0;36mautomation\u001b[1;34m(etfs_lst, etfs_hedge_date_dict, excel_path, start_date, end_date)\u001b[0m\n\u001b[0;32m     84\u001b[0m etfs_holding_dataframe \u001b[38;5;241m=\u001b[39m pd\u001b[38;5;241m.\u001b[39mread_excel(excel_path, index_col\u001b[38;5;241m=\u001b[39m\u001b[38;5;241m0\u001b[39m)\n\u001b[0;32m     85\u001b[0m etfs_hedge_date_dataframe \u001b[38;5;241m=\u001b[39m pd\u001b[38;5;241m.\u001b[39mDataFrame(etfs_hedge_date_dict)\u001b[38;5;241m.\u001b[39mT\n\u001b[1;32m---> 86\u001b[0m Fixing_hedge_df, FX_hedge_df \u001b[38;5;241m=\u001b[39m \u001b[43mmatch_Fixing_FX\u001b[49m\u001b[43m(\u001b[49m\u001b[43metfs_lst\u001b[49m\u001b[43m,\u001b[49m\u001b[43m \u001b[49m\u001b[43metfs_holding_dataframe\u001b[49m\u001b[43m,\u001b[49m\u001b[43m \u001b[49m\u001b[43metfs_hedge_date_dataframe\u001b[49m\u001b[43m,\u001b[49m\u001b[43m \u001b[49m\u001b[43mstart_date\u001b[49m\u001b[43m,\u001b[49m\u001b[43m \u001b[49m\u001b[43mend_date\u001b[49m\u001b[43m)\u001b[49m\n\u001b[0;32m     87\u001b[0m Fixing_hedge_df \u001b[38;5;241m=\u001b[39m Fixing_hedge_df\u001b[38;5;241m.\u001b[39mdrop(Fixing_hedge_df\u001b[38;5;241m.\u001b[39mloc[(Fixing_hedge_df\u001b[38;5;241m==\u001b[39m\u001b[38;5;241m0\u001b[39m)\u001b[38;5;241m.\u001b[39mall(axis\u001b[38;5;241m=\u001b[39m\u001b[38;5;241m1\u001b[39m)]\u001b[38;5;241m.\u001b[39mindex)\n\u001b[0;32m     88\u001b[0m FX_hedge_df \u001b[38;5;241m=\u001b[39m FX_hedge_df\u001b[38;5;241m.\u001b[39mdrop(FX_hedge_df\u001b[38;5;241m.\u001b[39mloc[(FX_hedge_df\u001b[38;5;241m==\u001b[39m\u001b[38;5;241m0\u001b[39m)\u001b[38;5;241m.\u001b[39mall(axis\u001b[38;5;241m=\u001b[39m\u001b[38;5;241m1\u001b[39m)]\u001b[38;5;241m.\u001b[39mindex)\n",
      "File \u001b[1;32mD:\\spreadsheet automation\\spreadsheet_automation.py:60\u001b[0m, in \u001b[0;36mmatch_Fixing_FX\u001b[1;34m(etfs_lst, etfs_holding_dataframe, etfs_hedge_date_dataframe, start_date, end_date)\u001b[0m\n\u001b[0;32m     59\u001b[0m \u001b[38;5;28;01mdef\u001b[39;00m \u001b[38;5;21mmatch_Fixing_FX\u001b[39m(etfs_lst, etfs_holding_dataframe, etfs_hedge_date_dataframe, start_date, end_date):\n\u001b[1;32m---> 60\u001b[0m     Fixing_hedge_df \u001b[38;5;241m=\u001b[39m pd\u001b[38;5;241m.\u001b[39mDataFrame(index\u001b[38;5;241m=\u001b[39m\u001b[43mtrading_days\u001b[49m, columns\u001b[38;5;241m=\u001b[39metfs_lst)\u001b[38;5;241m.\u001b[39mnotna()\u001b[38;5;241m*\u001b[39m\u001b[38;5;241m1\u001b[39m\n\u001b[0;32m     61\u001b[0m     FX_hedge_df \u001b[38;5;241m=\u001b[39m pd\u001b[38;5;241m.\u001b[39mDataFrame(index\u001b[38;5;241m=\u001b[39mtrading_days, columns\u001b[38;5;241m=\u001b[39metfs_lst)\u001b[38;5;241m.\u001b[39mnotna()\u001b[38;5;241m*\u001b[39m\u001b[38;5;241m1\u001b[39m\n\u001b[0;32m     62\u001b[0m     \u001b[38;5;28;01mfor\u001b[39;00m i \u001b[38;5;129;01min\u001b[39;00m etfs_holding_dataframe\u001b[38;5;241m.\u001b[39mindex:\n",
      "\u001b[1;31mUnboundLocalError\u001b[0m: local variable 'trading_days' referenced before assignment"
     ]
    }
   ],
   "source": [
    "import pandas as pd\n",
    "from spreadsheet_automation import automation\n",
    "from config import etfs_lst, etfs_hedge_date_dict, start_date, end_date, excel_path\n",
    "\n",
    "Fixing_hedge_df, FX_hedge_df = automation(etfs_lst, etfs_hedge_date_dict, excel_path, start_date, end_date)"
   ]
  },
  {
   "cell_type": "code",
   "execution_count": null,
   "id": "81fc0893",
   "metadata": {
    "ExecuteTime": {
     "end_time": "2023-05-18T06:03:25.192800Z",
     "start_time": "2023-05-18T06:03:25.192800Z"
    }
   },
   "outputs": [],
   "source": [
    "Fixing_hedge_df"
   ]
  },
  {
   "cell_type": "code",
   "execution_count": null,
   "id": "adad9cba",
   "metadata": {
    "ExecuteTime": {
     "end_time": "2023-05-18T06:03:25.193797Z",
     "start_time": "2023-05-18T06:03:25.193797Z"
    }
   },
   "outputs": [],
   "source": [
    "FX_hedge_df"
   ]
  },
  {
   "cell_type": "code",
   "execution_count": null,
   "id": "08c75079",
   "metadata": {
    "ExecuteTime": {
     "end_time": "2023-05-18T06:03:25.194794Z",
     "start_time": "2023-05-18T06:03:25.194794Z"
    }
   },
   "outputs": [],
   "source": [
    "import pandas_market_calendars as mcal\n",
    "\n",
    "shex = mcal.get_calendar('XSHG')  # 上交所\n",
    "szex = mcal.get_calendar('XSHE')  # 深交所\n",
    "hkex = mcal.get_calendar('XHKG')  # 港交所\n",
    "shex_schedule = shex.schedule(start_date=start_date, end_date=end_date)\n",
    "szex_schedule = szex.schedule(start_date=start_date, end_date=end_date)\n",
    "hkex_schedule = hkex.schedule(start_date=start_date, end_date=end_date)\n",
    "\n",
    "trading_days = schedule.index.date"
   ]
  },
  {
   "cell_type": "code",
   "execution_count": null,
   "id": "fd21c854",
   "metadata": {
    "ExecuteTime": {
     "end_time": "2023-05-18T06:03:25.195792Z",
     "start_time": "2023-05-18T06:03:25.195792Z"
    }
   },
   "outputs": [],
   "source": [
    "trading_days"
   ]
  },
  {
   "cell_type": "code",
   "execution_count": null,
   "id": "89ab68cb",
   "metadata": {
    "ExecuteTime": {
     "end_time": "2023-05-18T06:03:25.196790Z",
     "start_time": "2023-05-18T06:03:25.196790Z"
    }
   },
   "outputs": [],
   "source": [
    "len(set())"
   ]
  },
  {
   "cell_type": "code",
   "execution_count": null,
   "id": "a81fc39a",
   "metadata": {},
   "outputs": [],
   "source": []
  }
 ],
 "metadata": {
  "kernelspec": {
   "display_name": "Python 3 (ipykernel)",
   "language": "python",
   "name": "python3"
  },
  "language_info": {
   "codemirror_mode": {
    "name": "ipython",
    "version": 3
   },
   "file_extension": ".py",
   "mimetype": "text/x-python",
   "name": "python",
   "nbconvert_exporter": "python",
   "pygments_lexer": "ipython3",
   "version": "3.10.9"
  },
  "toc": {
   "base_numbering": 1,
   "nav_menu": {},
   "number_sections": true,
   "sideBar": true,
   "skip_h1_title": false,
   "title_cell": "Table of Contents",
   "title_sidebar": "Contents",
   "toc_cell": false,
   "toc_position": {},
   "toc_section_display": true,
   "toc_window_display": false
  }
 },
 "nbformat": 4,
 "nbformat_minor": 5
}
