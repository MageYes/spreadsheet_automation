{
 "cells": [
  {
   "cell_type": "code",
   "execution_count": 1,
   "id": "025a0768",
   "metadata": {
    "ExecuteTime": {
     "end_time": "2023-05-18T03:37:15.409015Z",
     "start_time": "2023-05-18T03:37:14.480607Z"
    }
   },
   "outputs": [],
   "source": [
    "import pandas as pd\n",
    "from spreadsheet_automation import automation\n",
    "from config import etfs_lst, etfs_hedge_date_dict, start_date, end_date, excel_path\n",
    "\n",
    "Fixing_hedge_df, FX_hedge_df = automation(etfs_lst, etfs_hedge_date_dict, excel_path, start_date, end_date)"
   ]
  },
  {
   "cell_type": "code",
   "execution_count": 2,
   "id": "81fc0893",
   "metadata": {
    "ExecuteTime": {
     "end_time": "2023-05-18T03:37:15.424999Z",
     "start_time": "2023-05-18T03:37:15.410014Z"
    }
   },
   "outputs": [
    {
     "data": {
      "text/html": [
       "<div>\n",
       "<style scoped>\n",
       "    .dataframe tbody tr th:only-of-type {\n",
       "        vertical-align: middle;\n",
       "    }\n",
       "\n",
       "    .dataframe tbody tr th {\n",
       "        vertical-align: top;\n",
       "    }\n",
       "\n",
       "    .dataframe thead th {\n",
       "        text-align: right;\n",
       "    }\n",
       "</style>\n",
       "<table border=\"1\" class=\"dataframe\">\n",
       "  <thead>\n",
       "    <tr style=\"text-align: right;\">\n",
       "      <th></th>\n",
       "      <th>513010</th>\n",
       "      <th>513180</th>\n",
       "      <th>513380</th>\n",
       "      <th>159920</th>\n",
       "      <th>513580</th>\n",
       "    </tr>\n",
       "  </thead>\n",
       "  <tbody>\n",
       "    <tr>\n",
       "      <th>2023-05-16</th>\n",
       "      <td>Close</td>\n",
       "      <td>15:40-16:00</td>\n",
       "      <td>0</td>\n",
       "      <td>0</td>\n",
       "      <td>0</td>\n",
       "    </tr>\n",
       "    <tr>\n",
       "      <th>2023-05-17</th>\n",
       "      <td>0</td>\n",
       "      <td>15:40-16:00</td>\n",
       "      <td>15:45-15:55</td>\n",
       "      <td>15:45-15:55</td>\n",
       "      <td>0</td>\n",
       "    </tr>\n",
       "    <tr>\n",
       "      <th>2023-05-18</th>\n",
       "      <td>Close</td>\n",
       "      <td>0</td>\n",
       "      <td>0</td>\n",
       "      <td>0</td>\n",
       "      <td>Close</td>\n",
       "    </tr>\n",
       "    <tr>\n",
       "      <th>2023-05-19</th>\n",
       "      <td>0</td>\n",
       "      <td>15:40-16:00</td>\n",
       "      <td>0</td>\n",
       "      <td>0</td>\n",
       "      <td>0</td>\n",
       "    </tr>\n",
       "    <tr>\n",
       "      <th>2023-05-22</th>\n",
       "      <td>Close</td>\n",
       "      <td>0</td>\n",
       "      <td>0</td>\n",
       "      <td>15:45-15:55</td>\n",
       "      <td>Close</td>\n",
       "    </tr>\n",
       "  </tbody>\n",
       "</table>\n",
       "</div>"
      ],
      "text/plain": [
       "           513010       513180       513380       159920 513580\n",
       "2023-05-16  Close  15:40-16:00            0            0      0\n",
       "2023-05-17      0  15:40-16:00  15:45-15:55  15:45-15:55      0\n",
       "2023-05-18  Close            0            0            0  Close\n",
       "2023-05-19      0  15:40-16:00            0            0      0\n",
       "2023-05-22  Close            0            0  15:45-15:55  Close"
      ]
     },
     "execution_count": 2,
     "metadata": {},
     "output_type": "execute_result"
    }
   ],
   "source": [
    "Fixing_hedge_df"
   ]
  },
  {
   "cell_type": "code",
   "execution_count": 3,
   "id": "adad9cba",
   "metadata": {
    "ExecuteTime": {
     "end_time": "2023-05-18T03:37:15.441119Z",
     "start_time": "2023-05-18T03:37:15.426000Z"
    }
   },
   "outputs": [
    {
     "data": {
      "text/html": [
       "<div>\n",
       "<style scoped>\n",
       "    .dataframe tbody tr th:only-of-type {\n",
       "        vertical-align: middle;\n",
       "    }\n",
       "\n",
       "    .dataframe tbody tr th {\n",
       "        vertical-align: top;\n",
       "    }\n",
       "\n",
       "    .dataframe thead th {\n",
       "        text-align: right;\n",
       "    }\n",
       "</style>\n",
       "<table border=\"1\" class=\"dataframe\">\n",
       "  <thead>\n",
       "    <tr style=\"text-align: right;\">\n",
       "      <th></th>\n",
       "      <th>513010</th>\n",
       "      <th>513180</th>\n",
       "      <th>513380</th>\n",
       "      <th>159920</th>\n",
       "      <th>513580</th>\n",
       "    </tr>\n",
       "  </thead>\n",
       "  <tbody>\n",
       "    <tr>\n",
       "      <th>2023-05-15</th>\n",
       "      <td>Mostly_Connect_20:25-20:35</td>\n",
       "      <td>69%_Connect_20:25-20:35</td>\n",
       "      <td>0</td>\n",
       "      <td>0</td>\n",
       "      <td>0</td>\n",
       "    </tr>\n",
       "    <tr>\n",
       "      <th>2023-05-16</th>\n",
       "      <td>0</td>\n",
       "      <td>31%_QDII_random,69%_Connect_20:25-20:35</td>\n",
       "      <td>0</td>\n",
       "      <td>Mostly_Connect_20:25-20:35</td>\n",
       "      <td>0</td>\n",
       "    </tr>\n",
       "    <tr>\n",
       "      <th>2023-05-17</th>\n",
       "      <td>Mostly_Connect_20:25-20:35</td>\n",
       "      <td>31%_QDII_random</td>\n",
       "      <td>0</td>\n",
       "      <td>0</td>\n",
       "      <td>0</td>\n",
       "    </tr>\n",
       "    <tr>\n",
       "      <th>2023-05-18</th>\n",
       "      <td>0</td>\n",
       "      <td>69%_Connect_20:25-20:35</td>\n",
       "      <td>QDIImid_random</td>\n",
       "      <td>0</td>\n",
       "      <td>QDIImid_random</td>\n",
       "    </tr>\n",
       "    <tr>\n",
       "      <th>2023-05-19</th>\n",
       "      <td>Mostly_Connect_20:25-20:35</td>\n",
       "      <td>31%_QDII_random</td>\n",
       "      <td>0</td>\n",
       "      <td>Mostly_Connect_20:25-20:35</td>\n",
       "      <td>0</td>\n",
       "    </tr>\n",
       "    <tr>\n",
       "      <th>2023-05-22</th>\n",
       "      <td>0</td>\n",
       "      <td>0</td>\n",
       "      <td>0</td>\n",
       "      <td>0</td>\n",
       "      <td>QDIImid_random</td>\n",
       "    </tr>\n",
       "  </tbody>\n",
       "</table>\n",
       "</div>"
      ],
      "text/plain": [
       "                                513010                                   513180          513380                      159920          513580\n",
       "2023-05-15  Mostly_Connect_20:25-20:35                  69%_Connect_20:25-20:35               0                           0               0\n",
       "2023-05-16                           0  31%_QDII_random,69%_Connect_20:25-20:35               0  Mostly_Connect_20:25-20:35               0\n",
       "2023-05-17  Mostly_Connect_20:25-20:35                          31%_QDII_random               0                           0               0\n",
       "2023-05-18                           0                  69%_Connect_20:25-20:35  QDIImid_random                           0  QDIImid_random\n",
       "2023-05-19  Mostly_Connect_20:25-20:35                          31%_QDII_random               0  Mostly_Connect_20:25-20:35               0\n",
       "2023-05-22                           0                                        0               0                           0  QDIImid_random"
      ]
     },
     "execution_count": 3,
     "metadata": {},
     "output_type": "execute_result"
    }
   ],
   "source": [
    "FX_hedge_df"
   ]
  },
  {
   "cell_type": "code",
   "execution_count": null,
   "id": "08c75079",
   "metadata": {},
   "outputs": [],
   "source": []
  }
 ],
 "metadata": {
  "kernelspec": {
   "display_name": "Python 3 (ipykernel)",
   "language": "python",
   "name": "python3"
  },
  "language_info": {
   "codemirror_mode": {
    "name": "ipython",
    "version": 3
   },
   "file_extension": ".py",
   "mimetype": "text/x-python",
   "name": "python",
   "nbconvert_exporter": "python",
   "pygments_lexer": "ipython3",
   "version": "3.10.9"
  },
  "toc": {
   "base_numbering": 1,
   "nav_menu": {},
   "number_sections": true,
   "sideBar": true,
   "skip_h1_title": false,
   "title_cell": "Table of Contents",
   "title_sidebar": "Contents",
   "toc_cell": false,
   "toc_position": {},
   "toc_section_display": true,
   "toc_window_display": false
  }
 },
 "nbformat": 4,
 "nbformat_minor": 5
}
