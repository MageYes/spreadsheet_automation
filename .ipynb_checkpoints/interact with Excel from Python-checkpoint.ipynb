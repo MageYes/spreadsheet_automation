{
 "cells": [
  {
   "cell_type": "markdown",
   "id": "f41a04eb",
   "metadata": {},
   "source": [
    "# Automate/interact with Excel from Python"
   ]
  },
  {
   "cell_type": "code",
   "execution_count": 1,
   "id": "8abff6f0",
   "metadata": {
    "ExecuteTime": {
     "end_time": "2023-05-17T01:31:04.956565Z",
     "start_time": "2023-05-17T01:31:04.151042Z"
    }
   },
   "outputs": [],
   "source": [
    "import xlwings as xw"
   ]
  },
  {
   "cell_type": "code",
   "execution_count": 2,
   "id": "6c1d5754",
   "metadata": {
    "ExecuteTime": {
     "end_time": "2023-05-17T01:31:07.270503Z",
     "start_time": "2023-05-17T01:31:04.957563Z"
    }
   },
   "outputs": [],
   "source": [
    "# wb = xw.Book()  # this will open a new workbook\n",
    "# wb = xw.Book(r'C:\\path\\to\\file.xlsx')  # on Windows: use raw strings to escape backslashes\n",
    "wb = xw.Book('automation_test.xlsx')  # connect to a file that is open or in the current working directory"
   ]
  },
  {
   "cell_type": "code",
   "execution_count": 4,
   "id": "16b361ea",
   "metadata": {
    "ExecuteTime": {
     "end_time": "2023-05-17T01:32:36.991788Z",
     "start_time": "2023-05-17T01:32:36.983808Z"
    }
   },
   "outputs": [],
   "source": [
    "sheet = wb.sheets['Sheet1']"
   ]
  },
  {
   "cell_type": "code",
   "execution_count": 5,
   "id": "436774ac",
   "metadata": {
    "ExecuteTime": {
     "end_time": "2023-05-17T01:32:41.013380Z",
     "start_time": "2023-05-17T01:32:40.999398Z"
    }
   },
   "outputs": [
    {
     "data": {
      "text/plain": [
       "<Sheet [automation_test.xlsx]Sheet1>"
      ]
     },
     "execution_count": 5,
     "metadata": {},
     "output_type": "execute_result"
    }
   ],
   "source": [
    "sheet"
   ]
  },
  {
   "cell_type": "code",
   "execution_count": 7,
   "id": "066a8dda",
   "metadata": {
    "ExecuteTime": {
     "end_time": "2023-05-17T01:35:59.617141Z",
     "start_time": "2023-05-17T01:35:59.598189Z"
    }
   },
   "outputs": [
    {
     "data": {
      "text/plain": [
       "'Foo 1'"
      ]
     },
     "execution_count": 7,
     "metadata": {},
     "output_type": "execute_result"
    }
   ],
   "source": [
    "sheet['A1'].value = 'Foo 1'\n",
    "sheet['A1'].value"
   ]
  },
  {
   "cell_type": "code",
   "execution_count": 8,
   "id": "f0c59418",
   "metadata": {
    "ExecuteTime": {
     "end_time": "2023-05-17T01:36:46.529665Z",
     "start_time": "2023-05-17T01:36:46.222311Z"
    }
   },
   "outputs": [
    {
     "data": {
      "text/plain": [
       "<Picture 'MyPlot' in <Sheet [automation_test.xlsx]Sheet1>>"
      ]
     },
     "execution_count": 8,
     "metadata": {},
     "output_type": "execute_result"
    }
   ],
   "source": [
    "import matplotlib.pyplot as plt\n",
    "fig = plt.figure()\n",
    "plt.plot([1, 2, 3, 4, 5])\n",
    "sheet.pictures.add(fig, name='MyPlot', update=True)"
   ]
  },
  {
   "cell_type": "code",
   "execution_count": null,
   "id": "be94d2e3",
   "metadata": {},
   "outputs": [],
   "source": []
  }
 ],
 "metadata": {
  "kernelspec": {
   "display_name": "Python 3 (ipykernel)",
   "language": "python",
   "name": "python3"
  },
  "language_info": {
   "codemirror_mode": {
    "name": "ipython",
    "version": 3
   },
   "file_extension": ".py",
   "mimetype": "text/x-python",
   "name": "python",
   "nbconvert_exporter": "python",
   "pygments_lexer": "ipython3",
   "version": "3.10.9"
  },
  "toc": {
   "base_numbering": 1,
   "nav_menu": {},
   "number_sections": true,
   "sideBar": true,
   "skip_h1_title": false,
   "title_cell": "Table of Contents",
   "title_sidebar": "Contents",
   "toc_cell": false,
   "toc_position": {},
   "toc_section_display": true,
   "toc_window_display": false
  }
 },
 "nbformat": 4,
 "nbformat_minor": 5
}
